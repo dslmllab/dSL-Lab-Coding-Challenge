{
  "cells": [
    {
      "cell_type": "markdown",
      "metadata": {
        "id": "view-in-github",
        "colab_type": "text"
      },
      "source": [
        "<a href=\"https://colab.research.google.com/github/dslmllab/dSL-Lab-Coding-Challenge/blob/main/11_student_teacher_network.ipynb\" target=\"_parent\"><img src=\"https://colab.research.google.com/assets/colab-badge.svg\" alt=\"Open In Colab\"/></a>"
      ]
    },
    {
      "cell_type": "markdown",
      "metadata": {
        "id": "8-GKWNicnfUc"
      },
      "source": [
        "# Student-Teacher Network for MNIST Classification\n",
        "\n",
        "## Learning Objectives\n",
        "\n",
        "By the end of this notebook, you will be able to:\n",
        "\n",
        "* Train a teacher network to classify the MNIST dataset\n",
        "* Understand knowledge distillation and how the student network learns from the teacher\n",
        "* Implement and compare different student architectures\n",
        "* Analyze the performance trade-offs between model size and accuracy"
      ]
    },
    {
      "cell_type": "markdown",
      "metadata": {
        "id": "CndxEPm9nfUd"
      },
      "source": [
        "## 1. Introduction to Knowledge Distillation\n",
        "\n",
        "Knowledge distillation is a technique where a smaller \"student\" model learns to mimic a larger \"teacher\" model. The student learns not just from the hard labels (correct classes) but also from the soft probabilities output by the teacher.\n",
        "\n",
        "### Why Knowledge Distillation?\n",
        "- **Model Compression**: Deploy smaller models on edge devices\n",
        "- **Faster Inference**: Reduced computation time\n",
        "- **Knowledge Transfer**: Student learns richer representations from teacher's outputs"
      ]
    },
    {
      "cell_type": "markdown",
      "metadata": {
        "id": "gWLlXWRenfUd"
      },
      "source": [
        "## 2. Setup and Imports"
      ]
    },
    {
      "cell_type": "code",
      "execution_count": 21,
      "metadata": {
        "id": "fOcidpklnfUd",
        "outputId": "0b54702c-a0f9-46b6-88ea-d52ccb37919f",
        "colab": {
          "base_uri": "https://localhost:8080/"
        }
      },
      "outputs": [
        {
          "output_type": "stream",
          "name": "stdout",
          "text": [
            "Requirement already satisfied: numpy in /usr/local/lib/python3.11/dist-packages (2.0.2)\n",
            "Requirement already satisfied: pandas in /usr/local/lib/python3.11/dist-packages (2.2.2)\n",
            "Requirement already satisfied: matplotlib in /usr/local/lib/python3.11/dist-packages (3.10.0)\n",
            "Requirement already satisfied: seaborn in /usr/local/lib/python3.11/dist-packages (0.13.2)\n",
            "Requirement already satisfied: torch in /usr/local/lib/python3.11/dist-packages (2.6.0+cu124)\n",
            "Requirement already satisfied: tqdm in /usr/local/lib/python3.11/dist-packages (4.67.1)\n",
            "Requirement already satisfied: scikit-learn in /usr/local/lib/python3.11/dist-packages (1.6.1)\n",
            "Requirement already satisfied: python-dateutil>=2.8.2 in /usr/local/lib/python3.11/dist-packages (from pandas) (2.9.0.post0)\n",
            "Requirement already satisfied: pytz>=2020.1 in /usr/local/lib/python3.11/dist-packages (from pandas) (2025.2)\n",
            "Requirement already satisfied: tzdata>=2022.7 in /usr/local/lib/python3.11/dist-packages (from pandas) (2025.2)\n",
            "Requirement already satisfied: contourpy>=1.0.1 in /usr/local/lib/python3.11/dist-packages (from matplotlib) (1.3.2)\n",
            "Requirement already satisfied: cycler>=0.10 in /usr/local/lib/python3.11/dist-packages (from matplotlib) (0.12.1)\n",
            "Requirement already satisfied: fonttools>=4.22.0 in /usr/local/lib/python3.11/dist-packages (from matplotlib) (4.58.4)\n",
            "Requirement already satisfied: kiwisolver>=1.3.1 in /usr/local/lib/python3.11/dist-packages (from matplotlib) (1.4.8)\n",
            "Requirement already satisfied: packaging>=20.0 in /usr/local/lib/python3.11/dist-packages (from matplotlib) (24.2)\n",
            "Requirement already satisfied: pillow>=8 in /usr/local/lib/python3.11/dist-packages (from matplotlib) (11.2.1)\n",
            "Requirement already satisfied: pyparsing>=2.3.1 in /usr/local/lib/python3.11/dist-packages (from matplotlib) (3.2.3)\n",
            "Requirement already satisfied: filelock in /usr/local/lib/python3.11/dist-packages (from torch) (3.18.0)\n",
            "Requirement already satisfied: typing-extensions>=4.10.0 in /usr/local/lib/python3.11/dist-packages (from torch) (4.14.0)\n",
            "Requirement already satisfied: networkx in /usr/local/lib/python3.11/dist-packages (from torch) (3.5)\n",
            "Requirement already satisfied: jinja2 in /usr/local/lib/python3.11/dist-packages (from torch) (3.1.6)\n",
            "Requirement already satisfied: fsspec in /usr/local/lib/python3.11/dist-packages (from torch) (2025.3.2)\n",
            "Collecting nvidia-cuda-nvrtc-cu12==12.4.127 (from torch)\n",
            "  Downloading nvidia_cuda_nvrtc_cu12-12.4.127-py3-none-manylinux2014_x86_64.whl.metadata (1.5 kB)\n",
            "Collecting nvidia-cuda-runtime-cu12==12.4.127 (from torch)\n",
            "  Downloading nvidia_cuda_runtime_cu12-12.4.127-py3-none-manylinux2014_x86_64.whl.metadata (1.5 kB)\n",
            "Collecting nvidia-cuda-cupti-cu12==12.4.127 (from torch)\n",
            "  Downloading nvidia_cuda_cupti_cu12-12.4.127-py3-none-manylinux2014_x86_64.whl.metadata (1.6 kB)\n",
            "Collecting nvidia-cudnn-cu12==9.1.0.70 (from torch)\n",
            "  Downloading nvidia_cudnn_cu12-9.1.0.70-py3-none-manylinux2014_x86_64.whl.metadata (1.6 kB)\n",
            "Collecting nvidia-cublas-cu12==12.4.5.8 (from torch)\n",
            "  Downloading nvidia_cublas_cu12-12.4.5.8-py3-none-manylinux2014_x86_64.whl.metadata (1.5 kB)\n",
            "Collecting nvidia-cufft-cu12==11.2.1.3 (from torch)\n",
            "  Downloading nvidia_cufft_cu12-11.2.1.3-py3-none-manylinux2014_x86_64.whl.metadata (1.5 kB)\n",
            "Collecting nvidia-curand-cu12==10.3.5.147 (from torch)\n",
            "  Downloading nvidia_curand_cu12-10.3.5.147-py3-none-manylinux2014_x86_64.whl.metadata (1.5 kB)\n",
            "Collecting nvidia-cusolver-cu12==11.6.1.9 (from torch)\n",
            "  Downloading nvidia_cusolver_cu12-11.6.1.9-py3-none-manylinux2014_x86_64.whl.metadata (1.6 kB)\n",
            "Collecting nvidia-cusparse-cu12==12.3.1.170 (from torch)\n",
            "  Downloading nvidia_cusparse_cu12-12.3.1.170-py3-none-manylinux2014_x86_64.whl.metadata (1.6 kB)\n",
            "Requirement already satisfied: nvidia-cusparselt-cu12==0.6.2 in /usr/local/lib/python3.11/dist-packages (from torch) (0.6.2)\n",
            "Requirement already satisfied: nvidia-nccl-cu12==2.21.5 in /usr/local/lib/python3.11/dist-packages (from torch) (2.21.5)\n",
            "Requirement already satisfied: nvidia-nvtx-cu12==12.4.127 in /usr/local/lib/python3.11/dist-packages (from torch) (12.4.127)\n",
            "Collecting nvidia-nvjitlink-cu12==12.4.127 (from torch)\n",
            "  Downloading nvidia_nvjitlink_cu12-12.4.127-py3-none-manylinux2014_x86_64.whl.metadata (1.5 kB)\n",
            "Requirement already satisfied: triton==3.2.0 in /usr/local/lib/python3.11/dist-packages (from torch) (3.2.0)\n",
            "Requirement already satisfied: sympy==1.13.1 in /usr/local/lib/python3.11/dist-packages (from torch) (1.13.1)\n",
            "Requirement already satisfied: mpmath<1.4,>=1.1.0 in /usr/local/lib/python3.11/dist-packages (from sympy==1.13.1->torch) (1.3.0)\n",
            "Requirement already satisfied: scipy>=1.6.0 in /usr/local/lib/python3.11/dist-packages (from scikit-learn) (1.15.3)\n",
            "Requirement already satisfied: joblib>=1.2.0 in /usr/local/lib/python3.11/dist-packages (from scikit-learn) (1.5.1)\n",
            "Requirement already satisfied: threadpoolctl>=3.1.0 in /usr/local/lib/python3.11/dist-packages (from scikit-learn) (3.6.0)\n",
            "Requirement already satisfied: six>=1.5 in /usr/local/lib/python3.11/dist-packages (from python-dateutil>=2.8.2->pandas) (1.17.0)\n",
            "Requirement already satisfied: MarkupSafe>=2.0 in /usr/local/lib/python3.11/dist-packages (from jinja2->torch) (3.0.2)\n",
            "Downloading nvidia_cublas_cu12-12.4.5.8-py3-none-manylinux2014_x86_64.whl (363.4 MB)\n",
            "\u001b[2K   \u001b[90m━━━━━━━━━━━━━━━━━━━━━━━━━━━━━━━━━━━━━━━━\u001b[0m \u001b[32m363.4/363.4 MB\u001b[0m \u001b[31m4.7 MB/s\u001b[0m eta \u001b[36m0:00:00\u001b[0m\n",
            "\u001b[?25hDownloading nvidia_cuda_cupti_cu12-12.4.127-py3-none-manylinux2014_x86_64.whl (13.8 MB)\n",
            "\u001b[2K   \u001b[90m━━━━━━━━━━━━━━━━━━━━━━━━━━━━━━━━━━━━━━━━\u001b[0m \u001b[32m13.8/13.8 MB\u001b[0m \u001b[31m61.3 MB/s\u001b[0m eta \u001b[36m0:00:00\u001b[0m\n",
            "\u001b[?25hDownloading nvidia_cuda_nvrtc_cu12-12.4.127-py3-none-manylinux2014_x86_64.whl (24.6 MB)\n",
            "\u001b[2K   \u001b[90m━━━━━━━━━━━━━━━━━━━━━━━━━━━━━━━━━━━━━━━━\u001b[0m \u001b[32m24.6/24.6 MB\u001b[0m \u001b[31m31.8 MB/s\u001b[0m eta \u001b[36m0:00:00\u001b[0m\n",
            "\u001b[?25hDownloading nvidia_cuda_runtime_cu12-12.4.127-py3-none-manylinux2014_x86_64.whl (883 kB)\n",
            "\u001b[2K   \u001b[90m━━━━━━━━━━━━━━━━━━━━━━━━━━━━━━━━━━━━━━━━\u001b[0m \u001b[32m883.7/883.7 kB\u001b[0m \u001b[31m30.3 MB/s\u001b[0m eta \u001b[36m0:00:00\u001b[0m\n",
            "\u001b[?25hDownloading nvidia_cudnn_cu12-9.1.0.70-py3-none-manylinux2014_x86_64.whl (664.8 MB)\n",
            "\u001b[2K   \u001b[90m━━━━━━━━━━━━━━━━━━━━━━━━━━━━━━━━━━━━━━━━\u001b[0m \u001b[32m664.8/664.8 MB\u001b[0m \u001b[31m1.2 MB/s\u001b[0m eta \u001b[36m0:00:00\u001b[0m\n",
            "\u001b[?25hDownloading nvidia_cufft_cu12-11.2.1.3-py3-none-manylinux2014_x86_64.whl (211.5 MB)\n",
            "\u001b[2K   \u001b[90m━━━━━━━━━━━━━━━━━━━━━━━━━━━━━━━━━━━━━━━━\u001b[0m \u001b[32m211.5/211.5 MB\u001b[0m \u001b[31m4.2 MB/s\u001b[0m eta \u001b[36m0:00:00\u001b[0m\n",
            "\u001b[?25hDownloading nvidia_curand_cu12-10.3.5.147-py3-none-manylinux2014_x86_64.whl (56.3 MB)\n",
            "\u001b[2K   \u001b[90m━━━━━━━━━━━━━━━━━━━━━━━━━━━━━━━━━━━━━━━━\u001b[0m \u001b[32m56.3/56.3 MB\u001b[0m \u001b[31m11.7 MB/s\u001b[0m eta \u001b[36m0:00:00\u001b[0m\n",
            "\u001b[?25hDownloading nvidia_cusolver_cu12-11.6.1.9-py3-none-manylinux2014_x86_64.whl (127.9 MB)\n",
            "\u001b[2K   \u001b[90m━━━━━━━━━━━━━━━━━━━━━━━━━━━━━━━━━━━━━━━━\u001b[0m \u001b[32m127.9/127.9 MB\u001b[0m \u001b[31m6.6 MB/s\u001b[0m eta \u001b[36m0:00:00\u001b[0m\n",
            "\u001b[?25hDownloading nvidia_cusparse_cu12-12.3.1.170-py3-none-manylinux2014_x86_64.whl (207.5 MB)\n",
            "\u001b[2K   \u001b[90m━━━━━━━━━━━━━━━━━━━━━━━━━━━━━━━━━━━━━━━━\u001b[0m \u001b[32m207.5/207.5 MB\u001b[0m \u001b[31m6.0 MB/s\u001b[0m eta \u001b[36m0:00:00\u001b[0m\n",
            "\u001b[?25hDownloading nvidia_nvjitlink_cu12-12.4.127-py3-none-manylinux2014_x86_64.whl (21.1 MB)\n",
            "\u001b[2K   \u001b[90m━━━━━━━━━━━━━━━━━━━━━━━━━━━━━━━━━━━━━━━━\u001b[0m \u001b[32m21.1/21.1 MB\u001b[0m \u001b[31m63.6 MB/s\u001b[0m eta \u001b[36m0:00:00\u001b[0m\n",
            "\u001b[?25hInstalling collected packages: nvidia-nvjitlink-cu12, nvidia-curand-cu12, nvidia-cufft-cu12, nvidia-cuda-runtime-cu12, nvidia-cuda-nvrtc-cu12, nvidia-cuda-cupti-cu12, nvidia-cublas-cu12, nvidia-cusparse-cu12, nvidia-cudnn-cu12, nvidia-cusolver-cu12\n",
            "  Attempting uninstall: nvidia-nvjitlink-cu12\n",
            "    Found existing installation: nvidia-nvjitlink-cu12 12.5.82\n",
            "    Uninstalling nvidia-nvjitlink-cu12-12.5.82:\n",
            "      Successfully uninstalled nvidia-nvjitlink-cu12-12.5.82\n",
            "  Attempting uninstall: nvidia-curand-cu12\n",
            "    Found existing installation: nvidia-curand-cu12 10.3.6.82\n",
            "    Uninstalling nvidia-curand-cu12-10.3.6.82:\n",
            "      Successfully uninstalled nvidia-curand-cu12-10.3.6.82\n",
            "  Attempting uninstall: nvidia-cufft-cu12\n",
            "    Found existing installation: nvidia-cufft-cu12 11.2.3.61\n",
            "    Uninstalling nvidia-cufft-cu12-11.2.3.61:\n",
            "      Successfully uninstalled nvidia-cufft-cu12-11.2.3.61\n",
            "  Attempting uninstall: nvidia-cuda-runtime-cu12\n",
            "    Found existing installation: nvidia-cuda-runtime-cu12 12.5.82\n",
            "    Uninstalling nvidia-cuda-runtime-cu12-12.5.82:\n",
            "      Successfully uninstalled nvidia-cuda-runtime-cu12-12.5.82\n",
            "  Attempting uninstall: nvidia-cuda-nvrtc-cu12\n",
            "    Found existing installation: nvidia-cuda-nvrtc-cu12 12.5.82\n",
            "    Uninstalling nvidia-cuda-nvrtc-cu12-12.5.82:\n",
            "      Successfully uninstalled nvidia-cuda-nvrtc-cu12-12.5.82\n",
            "  Attempting uninstall: nvidia-cuda-cupti-cu12\n",
            "    Found existing installation: nvidia-cuda-cupti-cu12 12.5.82\n",
            "    Uninstalling nvidia-cuda-cupti-cu12-12.5.82:\n",
            "      Successfully uninstalled nvidia-cuda-cupti-cu12-12.5.82\n",
            "  Attempting uninstall: nvidia-cublas-cu12\n",
            "    Found existing installation: nvidia-cublas-cu12 12.5.3.2\n",
            "    Uninstalling nvidia-cublas-cu12-12.5.3.2:\n",
            "      Successfully uninstalled nvidia-cublas-cu12-12.5.3.2\n",
            "  Attempting uninstall: nvidia-cusparse-cu12\n",
            "    Found existing installation: nvidia-cusparse-cu12 12.5.1.3\n",
            "    Uninstalling nvidia-cusparse-cu12-12.5.1.3:\n",
            "      Successfully uninstalled nvidia-cusparse-cu12-12.5.1.3\n",
            "  Attempting uninstall: nvidia-cudnn-cu12\n",
            "    Found existing installation: nvidia-cudnn-cu12 9.3.0.75\n",
            "    Uninstalling nvidia-cudnn-cu12-9.3.0.75:\n",
            "      Successfully uninstalled nvidia-cudnn-cu12-9.3.0.75\n",
            "  Attempting uninstall: nvidia-cusolver-cu12\n",
            "    Found existing installation: nvidia-cusolver-cu12 11.6.3.83\n",
            "    Uninstalling nvidia-cusolver-cu12-11.6.3.83:\n",
            "      Successfully uninstalled nvidia-cusolver-cu12-11.6.3.83\n",
            "Successfully installed nvidia-cublas-cu12-12.4.5.8 nvidia-cuda-cupti-cu12-12.4.127 nvidia-cuda-nvrtc-cu12-12.4.127 nvidia-cuda-runtime-cu12-12.4.127 nvidia-cudnn-cu12-9.1.0.70 nvidia-cufft-cu12-11.2.1.3 nvidia-curand-cu12-10.3.5.147 nvidia-cusolver-cu12-11.6.1.9 nvidia-cusparse-cu12-12.3.1.170 nvidia-nvjitlink-cu12-12.4.127\n"
          ]
        }
      ],
      "source": [
        "# Install required packages\n",
        "\n",
        "!pip install numpy pandas matplotlib seaborn torch tqdm scikit-learn"
      ]
    },
    {
      "cell_type": "code",
      "execution_count": 2,
      "metadata": {
        "ExecuteTime": {
          "end_time": "2025-07-02T02:14:25.418324Z",
          "start_time": "2025-07-02T02:14:25.379303Z"
        },
        "id": "kC90ICRFnfUd",
        "outputId": "43323c80-a29c-4a5d-934d-ec579ab2eb53",
        "colab": {
          "base_uri": "https://localhost:8080/"
        }
      },
      "outputs": [
        {
          "output_type": "stream",
          "name": "stdout",
          "text": [
            "Using device: cpu\n"
          ]
        }
      ],
      "source": [
        "import numpy as np\n",
        "import torch\n",
        "import torch.nn as nn\n",
        "import torch.nn.functional as F\n",
        "import torchvision\n",
        "import torchvision.datasets as dsets\n",
        "import torchvision.transforms as transforms\n",
        "from torch.autograd import Variable\n",
        "import matplotlib.pyplot as plt\n",
        "from tqdm import tqdm\n",
        "\n",
        "# Set random seed for reproducibility\n",
        "torch.manual_seed(42)\n",
        "np.random.seed(42)\n",
        "\n",
        "# Check if CUDA is available\n",
        "device = torch.device(\"cuda:0\" if torch.cuda.is_available() else \"cpu\")\n",
        "print(f\"Using device: {device}\")"
      ]
    },
    {
      "cell_type": "markdown",
      "metadata": {
        "id": "fWzZ3BionfUe"
      },
      "source": [
        "## 3. Hyperparameters"
      ]
    },
    {
      "cell_type": "code",
      "execution_count": 3,
      "metadata": {
        "id": "r2Bfeu3UnfUe"
      },
      "outputs": [],
      "source": [
        "# Training hyperparameters\n",
        "num_epochs = 5\n",
        "batch_size = 100\n",
        "learning_rate = 0.001\n",
        "\n",
        "# Knowledge distillation hyperparameters\n",
        "temperature = 3.0  # Temperature for softening probability distributions\n",
        "alpha = 0.7       # Weight for distillation loss vs hard target loss"
      ]
    },
    {
      "cell_type": "markdown",
      "metadata": {
        "id": "urDsm_IlnfUe"
      },
      "source": [
        "## 4. Dataset Preparation\n",
        "\n",
        "MNIST dataset contains 60,000 training images and 10,000 test images of handwritten digits (0-9). Each image is 28x28 pixels."
      ]
    },
    {
      "cell_type": "code",
      "execution_count": 4,
      "metadata": {
        "id": "KGTKEVLSnfUe",
        "outputId": "c9855a47-e11d-49f3-9f6e-c3b896766da6",
        "colab": {
          "base_uri": "https://localhost:8080/"
        }
      },
      "outputs": [
        {
          "output_type": "stream",
          "name": "stderr",
          "text": [
            "100%|██████████| 9.91M/9.91M [00:00<00:00, 35.1MB/s]\n",
            "100%|██████████| 28.9k/28.9k [00:00<00:00, 1.04MB/s]\n",
            "100%|██████████| 1.65M/1.65M [00:00<00:00, 9.25MB/s]\n",
            "100%|██████████| 4.54k/4.54k [00:00<00:00, 5.77MB/s]"
          ]
        },
        {
          "output_type": "stream",
          "name": "stdout",
          "text": [
            "Training samples: 60000\n",
            "Test samples: 10000\n"
          ]
        },
        {
          "output_type": "stream",
          "name": "stderr",
          "text": [
            "\n"
          ]
        }
      ],
      "source": [
        "# Download and prepare MNIST dataset\n",
        "train_dataset = dsets.MNIST(root='./data/',\n",
        "                            train=True,\n",
        "                            transform=transforms.ToTensor(),\n",
        "                            download=True)\n",
        "\n",
        "test_dataset = dsets.MNIST(root='./data/',\n",
        "                           train=False,\n",
        "                           transform=transforms.ToTensor())\n",
        "\n",
        "# Create data loaders\n",
        "train_loader = torch.utils.data.DataLoader(dataset=train_dataset,\n",
        "                                           batch_size=batch_size,\n",
        "                                           shuffle=True)\n",
        "\n",
        "test_loader = torch.utils.data.DataLoader(dataset=test_dataset,\n",
        "                                          batch_size=batch_size,\n",
        "                                          shuffle=False)\n",
        "\n",
        "print(f\"Training samples: {len(train_dataset)}\")\n",
        "print(f\"Test samples: {len(test_dataset)}\")"
      ]
    },
    {
      "cell_type": "markdown",
      "metadata": {
        "id": "7BItBK4QnfUe"
      },
      "source": [
        "## 5. Visualize Sample Data"
      ]
    },
    {
      "cell_type": "code",
      "execution_count": 5,
      "metadata": {
        "id": "bu4Tz-PanfUe",
        "outputId": "4822a308-a694-486d-e281-59e5f4099ab6",
        "colab": {
          "base_uri": "https://localhost:8080/",
          "height": 560
        }
      },
      "outputs": [
        {
          "output_type": "display_data",
          "data": {
            "text/plain": [
              "<Figure size 1200x600 with 10 Axes>"
            ],
            "image/png": "[encoded data removed]"
          },
          "metadata": {}
        }
      ],
      "source": [
        "# Visualize some samples\n",
        "fig, axes = plt.subplots(2, 5, figsize=(12, 6))\n",
        "for i, ax in enumerate(axes.flat):\n",
        "    img, label = train_dataset[i]\n",
        "    ax.imshow(img.squeeze(), cmap='gray')\n",
        "    ax.set_title(f'Label: {label}')\n",
        "    ax.axis('off')\n",
        "plt.tight_layout()\n",
        "plt.show()"
      ]
    },
    {
      "cell_type": "markdown",
      "metadata": {
        "id": "-3XXl0E6nfUf"
      },
      "source": [
        "## 6. Model Architectures\n",
        "\n",
        "### Teacher Network\n",
        "A larger, more complex network with multiple convolutional layers."
      ]
    },
    {
      "cell_type": "code",
      "execution_count": 6,
      "metadata": {
        "id": "JtMchmyWnfUf",
        "outputId": "a924a93e-6781-4f36-e318-d58c81667084",
        "colab": {
          "base_uri": "https://localhost:8080/"
        }
      },
      "outputs": [
        {
          "output_type": "stream",
          "name": "stdout",
          "text": [
            "Teacher Network Parameters: 481,214\n"
          ]
        }
      ],
      "source": [
        "class Teacher(nn.Module):\n",
        "    def __init__(self):\n",
        "        super(Teacher, self).__init__()\n",
        "        self.layer1 = nn.Sequential(\n",
        "            nn.Conv2d(1, 16, kernel_size=5, padding=2),\n",
        "            nn.BatchNorm2d(16),\n",
        "            nn.ReLU())\n",
        "        self.layer2 = nn.Sequential(\n",
        "            nn.Conv2d(16, 16, kernel_size=3, padding=1),\n",
        "            nn.BatchNorm2d(16),\n",
        "            nn.ReLU(),\n",
        "            nn.MaxPool2d(2))\n",
        "        self.layer3 = nn.Sequential(\n",
        "            nn.Conv2d(16, 32, kernel_size=3, padding=1),\n",
        "            nn.BatchNorm2d(32),\n",
        "            nn.ReLU(),\n",
        "            nn.MaxPool2d(2))\n",
        "        self.fc1 = nn.Linear(7*7*32, 300)\n",
        "        self.fc2 = nn.Linear(300, 10)\n",
        "        self.dropout = nn.Dropout(0.5)\n",
        "\n",
        "    def forward(self, x):\n",
        "        out = self.layer1(x)\n",
        "        out = self.layer2(out)\n",
        "        out = self.layer3(out)\n",
        "        out = out.view(out.size(0), -1)\n",
        "        out = F.relu(self.fc1(out))\n",
        "        out = self.dropout(out)\n",
        "        out = self.fc2(out)\n",
        "        return out\n",
        "\n",
        "# Calculate teacher model parameters\n",
        "teacher_model = Teacher()\n",
        "teacher_params = sum(p.numel() for p in teacher_model.parameters())\n",
        "print(f\"Teacher Network Parameters: {teacher_params:,}\")"
      ]
    },
    {
      "cell_type": "markdown",
      "metadata": {
        "id": "ezZCPBkXnfUf"
      },
      "source": [
        "### Student Network\n",
        "A smaller, simpler network that will learn from the teacher."
      ]
    },
    {
      "cell_type": "code",
      "execution_count": 7,
      "metadata": {
        "id": "K4Ie98XvnfUf",
        "outputId": "7c1c4009-dc4f-4b7d-ba86-931eb3169758",
        "colab": {
          "base_uri": "https://localhost:8080/"
        }
      },
      "outputs": [
        {
          "output_type": "stream",
          "name": "stdout",
          "text": [
            "Student Network Parameters: 31,562\n",
            "Compression Ratio: 15.25x\n"
          ]
        }
      ],
      "source": [
        "class Student(nn.Module):\n",
        "    def __init__(self):\n",
        "        super(Student, self).__init__()\n",
        "        self.layer1 = nn.Sequential(\n",
        "            nn.Conv2d(1, 16, kernel_size=3, padding=1),\n",
        "            nn.BatchNorm2d(16),\n",
        "            nn.ReLU(),\n",
        "            nn.MaxPool2d(2))\n",
        "        self.fc1 = nn.Linear(14*14*16, 10)\n",
        "\n",
        "    def forward(self, x):\n",
        "        out = self.layer1(x)\n",
        "        out = out.view(out.size(0), -1)\n",
        "        out = self.fc1(out)\n",
        "        return out\n",
        "\n",
        "# Calculate student model parameters\n",
        "student_model = Student()\n",
        "student_params = sum(p.numel() for p in student_model.parameters())\n",
        "print(f\"Student Network Parameters: {student_params:,}\")\n",
        "print(f\"Compression Ratio: {teacher_params/student_params:.2f}x\")"
      ]
    },
    {
      "cell_type": "markdown",
      "metadata": {
        "id": "J1qAG6rynfUf"
      },
      "source": [
        "## 7. Training Functions"
      ]
    },
    {
      "cell_type": "code",
      "execution_count": 8,
      "metadata": {
        "id": "9J2IfxL_nfUf"
      },
      "outputs": [],
      "source": [
        "def train_model(model, train_loader, criterion, optimizer, num_epochs, model_name=\"Model\"):\n",
        "    \"\"\"Standard training function for any model\"\"\"\n",
        "    model.train()\n",
        "    train_losses = []\n",
        "    train_accuracies = []\n",
        "\n",
        "    for epoch in range(num_epochs):\n",
        "        total_loss = 0\n",
        "        correct = 0\n",
        "        total = 0\n",
        "\n",
        "        progress_bar = tqdm(train_loader, desc=f'Epoch {epoch+1}/{num_epochs}')\n",
        "        for images, labels in progress_bar:\n",
        "            images = images.to(device)\n",
        "            labels = labels.to(device)\n",
        "\n",
        "            # Forward pass\n",
        "            outputs = model(images)\n",
        "            loss = criterion(outputs, labels)\n",
        "\n",
        "            # Backward pass\n",
        "            optimizer.zero_grad()\n",
        "            loss.backward()\n",
        "            optimizer.step()\n",
        "\n",
        "            total_loss += loss.item()\n",
        "            _, predicted = torch.max(outputs.data, 1)\n",
        "            total += labels.size(0)\n",
        "            correct += (predicted == labels).sum().item()\n",
        "\n",
        "            # Update progress bar\n",
        "            progress_bar.set_postfix({'loss': loss.item(), 'acc': 100.*correct/total})\n",
        "\n",
        "        avg_loss = total_loss / len(train_loader)\n",
        "        accuracy = 100. * correct / total\n",
        "        train_losses.append(avg_loss)\n",
        "        train_accuracies.append(accuracy)\n",
        "\n",
        "        print(f'{model_name} - Epoch [{epoch+1}/{num_epochs}], Loss: {avg_loss:.4f}, Accuracy: {accuracy:.2f}%')\n",
        "\n",
        "    return train_losses, train_accuracies\n",
        "\n",
        "def test_model(model, test_loader, model_name=\"Model\"):\n",
        "    \"\"\"Test function for any model\"\"\"\n",
        "    model.eval()\n",
        "    correct = 0\n",
        "    total = 0\n",
        "\n",
        "    with torch.no_grad():\n",
        "        for images, labels in test_loader:\n",
        "            images = images.to(device)\n",
        "            labels = labels.to(device)\n",
        "            outputs = model(images)\n",
        "            _, predicted = torch.max(outputs.data, 1)\n",
        "            total += labels.size(0)\n",
        "            correct += (predicted == labels).sum().item()\n",
        "\n",
        "    accuracy = 100. * correct / total\n",
        "    print(f'{model_name} - Test Accuracy: {accuracy:.2f}%')\n",
        "    return accuracy"
      ]
    },
    {
      "cell_type": "markdown",
      "metadata": {
        "id": "ZvIRsG0AnfUf"
      },
      "source": [
        "## 8. Train Teacher Network"
      ]
    },
    {
      "cell_type": "code",
      "execution_count": 9,
      "metadata": {
        "id": "8JuypL8ynfUf",
        "outputId": "7caf69de-d2c3-4fad-aaef-b36a8a91de2e",
        "colab": {
          "base_uri": "https://localhost:8080/"
        }
      },
      "outputs": [
        {
          "output_type": "stream",
          "name": "stdout",
          "text": [
            "Training Teacher Network...\n"
          ]
        },
        {
          "output_type": "stream",
          "name": "stderr",
          "text": [
            "Epoch 1/5: 100%|██████████| 600/600 [01:24<00:00,  7.13it/s, loss=0.0244, acc=95.1]\n"
          ]
        },
        {
          "output_type": "stream",
          "name": "stdout",
          "text": [
            "Teacher - Epoch [1/5], Loss: 0.1553, Accuracy: 95.14%\n"
          ]
        },
        {
          "output_type": "stream",
          "name": "stderr",
          "text": [
            "Epoch 2/5: 100%|██████████| 600/600 [01:21<00:00,  7.32it/s, loss=0.0956, acc=98.1]\n"
          ]
        },
        {
          "output_type": "stream",
          "name": "stdout",
          "text": [
            "Teacher - Epoch [2/5], Loss: 0.0625, Accuracy: 98.06%\n"
          ]
        },
        {
          "output_type": "stream",
          "name": "stderr",
          "text": [
            "Epoch 3/5: 100%|██████████| 600/600 [01:23<00:00,  7.21it/s, loss=0.00757, acc=98.4]\n"
          ]
        },
        {
          "output_type": "stream",
          "name": "stdout",
          "text": [
            "Teacher - Epoch [3/5], Loss: 0.0485, Accuracy: 98.44%\n"
          ]
        },
        {
          "output_type": "stream",
          "name": "stderr",
          "text": [
            "Epoch 4/5: 100%|██████████| 600/600 [01:21<00:00,  7.33it/s, loss=0.0483, acc=98.7]\n"
          ]
        },
        {
          "output_type": "stream",
          "name": "stdout",
          "text": [
            "Teacher - Epoch [4/5], Loss: 0.0414, Accuracy: 98.69%\n"
          ]
        },
        {
          "output_type": "stream",
          "name": "stderr",
          "text": [
            "Epoch 5/5: 100%|██████████| 600/600 [01:21<00:00,  7.35it/s, loss=0.0191, acc=98.9]\n"
          ]
        },
        {
          "output_type": "stream",
          "name": "stdout",
          "text": [
            "Teacher - Epoch [5/5], Loss: 0.0364, Accuracy: 98.87%\n",
            "Teacher - Test Accuracy: 99.19%\n"
          ]
        }
      ],
      "source": [
        "# Initialize teacher\n",
        "teacher = Teacher().to(device)\n",
        "criterion = nn.CrossEntropyLoss()\n",
        "optimizer = torch.optim.Adam(teacher.parameters(), lr=learning_rate)\n",
        "\n",
        "# Train teacher\n",
        "print(\"Training Teacher Network...\")\n",
        "teacher_losses, teacher_accs = train_model(teacher, train_loader, criterion, optimizer, num_epochs, \"Teacher\")\n",
        "\n",
        "# Test teacher\n",
        "teacher_accuracy = test_model(teacher, test_loader, \"Teacher\")"
      ]
    },
    {
      "cell_type": "markdown",
      "metadata": {
        "id": "EFYGFGjenfUf"
      },
      "source": [
        "## 9. Knowledge Distillation Training\n",
        "\n",
        "Now we'll train the student using knowledge distillation. The student learns from:\n",
        "1. **Hard targets**: The true labels (standard cross-entropy loss)\n",
        "2. **Soft targets**: The teacher's output probabilities (KL divergence loss)"
      ]
    },
    {
      "cell_type": "code",
      "execution_count": 10,
      "metadata": {
        "id": "Q2kbHW4UnfUf"
      },
      "outputs": [],
      "source": [
        "def train_student_distillation(student, teacher, train_loader, num_epochs, temperature=3.0, alpha=0.7):\n",
        "    \"\"\"Train student using knowledge distillation\"\"\"\n",
        "    student.train()\n",
        "    teacher.eval()  # Teacher in evaluation mode\n",
        "\n",
        "    # Freeze teacher parameters\n",
        "    for param in teacher.parameters():\n",
        "        param.requires_grad = False\n",
        "\n",
        "    criterion_hard = nn.CrossEntropyLoss()\n",
        "    optimizer = torch.optim.Adam(student.parameters(), lr=learning_rate)\n",
        "\n",
        "    train_losses = []\n",
        "    train_accuracies = []\n",
        "\n",
        "    for epoch in range(num_epochs):\n",
        "        total_loss = 0\n",
        "        correct = 0\n",
        "        total = 0\n",
        "\n",
        "        progress_bar = tqdm(train_loader, desc=f'Epoch {epoch+1}/{num_epochs}')\n",
        "        for images, labels in progress_bar:\n",
        "            images = images.to(device)\n",
        "            labels = labels.to(device)\n",
        "\n",
        "            # Get teacher outputs\n",
        "            with torch.no_grad():\n",
        "                teacher_outputs = teacher(images)\n",
        "\n",
        "            # Get student outputs\n",
        "            student_outputs = student(images)\n",
        "\n",
        "            # Calculate losses\n",
        "            # 1. Hard target loss (standard cross entropy)\n",
        "            loss_hard = criterion_hard(student_outputs, labels)\n",
        "\n",
        "            # 2. Soft target loss (KL divergence)\n",
        "            T = temperature\n",
        "            loss_soft = nn.KLDivLoss(reduction='batchmean')(\n",
        "                F.log_softmax(student_outputs / T, dim=1),\n",
        "                F.softmax(teacher_outputs / T, dim=1)\n",
        "            ) * (T * T)\n",
        "\n",
        "            # Combined loss\n",
        "            loss = alpha * loss_hard + (1 - alpha) * loss_soft\n",
        "\n",
        "            # Backward pass\n",
        "            optimizer.zero_grad()\n",
        "            loss.backward()\n",
        "            optimizer.step()\n",
        "\n",
        "            total_loss += loss.item()\n",
        "            _, predicted = torch.max(student_outputs.data, 1)\n",
        "            total += labels.size(0)\n",
        "            correct += (predicted == labels).sum().item()\n",
        "\n",
        "            progress_bar.set_postfix({'loss': loss.item(), 'acc': 100.*correct/total})\n",
        "\n",
        "        avg_loss = total_loss / len(train_loader)\n",
        "        accuracy = 100. * correct / total\n",
        "        train_losses.append(avg_loss)\n",
        "        train_accuracies.append(accuracy)\n",
        "\n",
        "        print(f'Student (Distilled) - Epoch [{epoch+1}/{num_epochs}], Loss: {avg_loss:.4f}, Accuracy: {accuracy:.2f}%')\n",
        "\n",
        "    return train_losses, train_accuracies"
      ]
    },
    {
      "cell_type": "code",
      "execution_count": 11,
      "metadata": {
        "id": "2Vo6SPtcnfUg",
        "outputId": "5a9527b0-2ec0-4ace-ddfe-b1d575a81598",
        "colab": {
          "base_uri": "https://localhost:8080/"
        }
      },
      "outputs": [
        {
          "output_type": "stream",
          "name": "stdout",
          "text": [
            "\n",
            "Training Student Network with Knowledge Distillation...\n"
          ]
        },
        {
          "output_type": "stream",
          "name": "stderr",
          "text": [
            "Epoch 1/5: 100%|██████████| 600/600 [00:53<00:00, 11.18it/s, loss=0.197, acc=93.9]\n"
          ]
        },
        {
          "output_type": "stream",
          "name": "stdout",
          "text": [
            "Student (Distilled) - Epoch [1/5], Loss: 0.6548, Accuracy: 93.94%\n"
          ]
        },
        {
          "output_type": "stream",
          "name": "stderr",
          "text": [
            "Epoch 2/5: 100%|██████████| 600/600 [00:51<00:00, 11.56it/s, loss=0.206, acc=97.7]\n"
          ]
        },
        {
          "output_type": "stream",
          "name": "stdout",
          "text": [
            "Student (Distilled) - Epoch [2/5], Loss: 0.2059, Accuracy: 97.72%\n"
          ]
        },
        {
          "output_type": "stream",
          "name": "stderr",
          "text": [
            "Epoch 3/5: 100%|██████████| 600/600 [00:52<00:00, 11.41it/s, loss=0.0848, acc=98.2]\n"
          ]
        },
        {
          "output_type": "stream",
          "name": "stdout",
          "text": [
            "Student (Distilled) - Epoch [3/5], Loss: 0.1648, Accuracy: 98.17%\n"
          ]
        },
        {
          "output_type": "stream",
          "name": "stderr",
          "text": [
            "Epoch 4/5: 100%|██████████| 600/600 [00:53<00:00, 11.23it/s, loss=0.134, acc=98.4]\n"
          ]
        },
        {
          "output_type": "stream",
          "name": "stdout",
          "text": [
            "Student (Distilled) - Epoch [4/5], Loss: 0.1456, Accuracy: 98.42%\n"
          ]
        },
        {
          "output_type": "stream",
          "name": "stderr",
          "text": [
            "Epoch 5/5: 100%|██████████| 600/600 [00:53<00:00, 11.19it/s, loss=0.115, acc=98.6]\n"
          ]
        },
        {
          "output_type": "stream",
          "name": "stdout",
          "text": [
            "Student (Distilled) - Epoch [5/5], Loss: 0.1325, Accuracy: 98.60%\n",
            "Student (Distilled) - Test Accuracy: 97.88%\n"
          ]
        }
      ],
      "source": [
        "# Initialize student for distillation\n",
        "student_distilled = Student().to(device)\n",
        "\n",
        "# Train student with knowledge distillation\n",
        "print(\"\\nTraining Student Network with Knowledge Distillation...\")\n",
        "distilled_losses, distilled_accs = train_student_distillation(\n",
        "    student_distilled, teacher, train_loader, num_epochs, temperature, alpha\n",
        ")\n",
        "\n",
        "# Test distilled student\n",
        "distilled_accuracy = test_model(student_distilled, test_loader, \"Student (Distilled)\")"
      ]
    },
    {
      "cell_type": "markdown",
      "metadata": {
        "id": "FjrMtqHBnfUg"
      },
      "source": [
        "## 10. Train Student Without Distillation (Baseline)"
      ]
    },
    {
      "cell_type": "code",
      "execution_count": 12,
      "metadata": {
        "id": "Slt5TbW1nfUg",
        "outputId": "8b8a9383-69b1-45f0-bf12-5a4d6b264a39",
        "colab": {
          "base_uri": "https://localhost:8080/"
        }
      },
      "outputs": [
        {
          "output_type": "stream",
          "name": "stdout",
          "text": [
            "\n",
            "Training Student Network WITHOUT Knowledge Distillation (Baseline)...\n"
          ]
        },
        {
          "output_type": "stream",
          "name": "stderr",
          "text": [
            "Epoch 1/5: 100%|██████████| 600/600 [00:28<00:00, 21.12it/s, loss=0.293, acc=94.3]\n"
          ]
        },
        {
          "output_type": "stream",
          "name": "stdout",
          "text": [
            "Student (Baseline) - Epoch [1/5], Loss: 0.1944, Accuracy: 94.30%\n"
          ]
        },
        {
          "output_type": "stream",
          "name": "stderr",
          "text": [
            "Epoch 2/5: 100%|██████████| 600/600 [00:28<00:00, 20.95it/s, loss=0.023, acc=97.5]\n"
          ]
        },
        {
          "output_type": "stream",
          "name": "stdout",
          "text": [
            "Student (Baseline) - Epoch [2/5], Loss: 0.0827, Accuracy: 97.51%\n"
          ]
        },
        {
          "output_type": "stream",
          "name": "stderr",
          "text": [
            "Epoch 3/5: 100%|██████████| 600/600 [00:28<00:00, 20.94it/s, loss=0.0811, acc=98.1]\n"
          ]
        },
        {
          "output_type": "stream",
          "name": "stdout",
          "text": [
            "Student (Baseline) - Epoch [3/5], Loss: 0.0632, Accuracy: 98.11%\n"
          ]
        },
        {
          "output_type": "stream",
          "name": "stderr",
          "text": [
            "Epoch 4/5: 100%|██████████| 600/600 [00:29<00:00, 20.65it/s, loss=0.0821, acc=98.3]\n"
          ]
        },
        {
          "output_type": "stream",
          "name": "stdout",
          "text": [
            "Student (Baseline) - Epoch [4/5], Loss: 0.0537, Accuracy: 98.33%\n"
          ]
        },
        {
          "output_type": "stream",
          "name": "stderr",
          "text": [
            "Epoch 5/5: 100%|██████████| 600/600 [00:28<00:00, 21.06it/s, loss=0.0186, acc=98.5]\n"
          ]
        },
        {
          "output_type": "stream",
          "name": "stdout",
          "text": [
            "Student (Baseline) - Epoch [5/5], Loss: 0.0475, Accuracy: 98.52%\n",
            "Student (Baseline) - Test Accuracy: 98.15%\n"
          ]
        }
      ],
      "source": [
        "# Initialize student for baseline training\n",
        "student_baseline = Student().to(device)\n",
        "criterion = nn.CrossEntropyLoss()\n",
        "optimizer = torch.optim.Adam(student_baseline.parameters(), lr=learning_rate)\n",
        "\n",
        "# Train student without distillation\n",
        "print(\"\\nTraining Student Network WITHOUT Knowledge Distillation (Baseline)...\")\n",
        "baseline_losses, baseline_accs = train_model(\n",
        "    student_baseline, train_loader, criterion, optimizer, num_epochs, \"Student (Baseline)\"\n",
        ")\n",
        "\n",
        "# Test baseline student\n",
        "baseline_accuracy = test_model(student_baseline, test_loader, \"Student (Baseline)\")"
      ]
    },
    {
      "cell_type": "markdown",
      "metadata": {
        "id": "Bu9AFGn1nfUg"
      },
      "source": [
        "## 11. Results Comparison"
      ]
    },
    {
      "cell_type": "code",
      "execution_count": 13,
      "metadata": {
        "id": "OvPl_xBYnfUg",
        "outputId": "c45ad220-e826-4c7b-f185-15a51e26cb8c",
        "colab": {
          "base_uri": "https://localhost:8080/",
          "height": 660
        }
      },
      "outputs": [
        {
          "output_type": "display_data",
          "data": {
            "text/plain": [
              "<Figure size 1500x500 with 3 Axes>"
            ],
            "image/png": "[encoded data removed]"
          },
          "metadata": {}
        },
        {
          "output_type": "stream",
          "name": "stdout",
          "text": [
            "\n",
            "=== Summary ===\n",
            "Teacher Parameters: 481,214\n",
            "Student Parameters: 31,562\n",
            "Compression Ratio: 15.25x\n",
            "\n",
            "Test Accuracies:\n",
            "  Teacher: 99.19%\n",
            "  Student (Distilled): 97.88%\n",
            "  Student (Baseline): 98.15%\n",
            "\n",
            "Improvement from Distillation: -0.27%\n"
          ]
        }
      ],
      "source": [
        "# Plot training curves\n",
        "plt.figure(figsize=(15, 5))\n",
        "\n",
        "# Loss curves\n",
        "plt.subplot(1, 3, 1)\n",
        "plt.plot(teacher_losses, label='Teacher', linewidth=2)\n",
        "plt.plot(distilled_losses, label='Student (Distilled)', linewidth=2)\n",
        "plt.plot(baseline_losses, label='Student (Baseline)', linewidth=2)\n",
        "plt.xlabel('Epoch')\n",
        "plt.ylabel('Loss')\n",
        "plt.title('Training Loss Comparison')\n",
        "plt.legend()\n",
        "plt.grid(True)\n",
        "\n",
        "# Accuracy curves\n",
        "plt.subplot(1, 3, 2)\n",
        "plt.plot(teacher_accs, label='Teacher', linewidth=2)\n",
        "plt.plot(distilled_accs, label='Student (Distilled)', linewidth=2)\n",
        "plt.plot(baseline_accs, label='Student (Baseline)', linewidth=2)\n",
        "plt.xlabel('Epoch')\n",
        "plt.ylabel('Accuracy (%)')\n",
        "plt.title('Training Accuracy Comparison')\n",
        "plt.legend()\n",
        "plt.grid(True)\n",
        "\n",
        "# Bar plot of final test accuracies\n",
        "plt.subplot(1, 3, 3)\n",
        "models = ['Teacher', 'Student\\n(Distilled)', 'Student\\n(Baseline)']\n",
        "accuracies = [teacher_accuracy, distilled_accuracy, baseline_accuracy]\n",
        "colors = ['blue', 'green', 'orange']\n",
        "bars = plt.bar(models, accuracies, color=colors)\n",
        "plt.ylabel('Test Accuracy (%)')\n",
        "plt.title('Final Test Accuracy Comparison')\n",
        "plt.ylim(90, 100)\n",
        "\n",
        "# Add value labels on bars\n",
        "for bar, acc in zip(bars, accuracies):\n",
        "    plt.text(bar.get_x() + bar.get_width()/2, bar.get_height() + 0.1,\n",
        "             f'{acc:.2f}%', ha='center', va='bottom')\n",
        "\n",
        "plt.tight_layout()\n",
        "plt.show()\n",
        "\n",
        "# Print summary\n",
        "print(\"\\n=== Summary ===\")\n",
        "print(f\"Teacher Parameters: {teacher_params:,}\")\n",
        "print(f\"Student Parameters: {student_params:,}\")\n",
        "print(f\"Compression Ratio: {teacher_params/student_params:.2f}x\")\n",
        "print(f\"\\nTest Accuracies:\")\n",
        "print(f\"  Teacher: {teacher_accuracy:.2f}%\")\n",
        "print(f\"  Student (Distilled): {distilled_accuracy:.2f}%\")\n",
        "print(f\"  Student (Baseline): {baseline_accuracy:.2f}%\")\n",
        "print(f\"\\nImprovement from Distillation: {distilled_accuracy - baseline_accuracy:.2f}%\")"
      ]
    },
    {
      "cell_type": "markdown",
      "metadata": {
        "id": "ZGdzYjBsnfUg"
      },
      "source": [
        "## 12. Visualize Model Predictions"
      ]
    },
    {
      "cell_type": "code",
      "execution_count": 14,
      "metadata": {
        "id": "NfU91MG3nfUg",
        "outputId": "d93db1c0-003e-4760-b788-9923e17ce38e",
        "colab": {
          "base_uri": "https://localhost:8080/",
          "height": 554
        }
      },
      "outputs": [
        {
          "output_type": "display_data",
          "data": {
            "text/plain": [
              "<Figure size 1500x600 with 10 Axes>"
            ],
            "image/png": "[encoded data removed]"
          },
          "metadata": {}
        }
      ],
      "source": [
        "def visualize_predictions(teacher, student_distilled, student_baseline, test_loader, num_samples=10):\n",
        "    \"\"\"Visualize predictions from all three models\"\"\"\n",
        "    teacher.eval()\n",
        "    student_distilled.eval()\n",
        "    student_baseline.eval()\n",
        "\n",
        "    # Get a batch of test data\n",
        "    images, labels = next(iter(test_loader))\n",
        "    images = images[:num_samples].to(device)\n",
        "    labels = labels[:num_samples]\n",
        "\n",
        "    # Get predictions\n",
        "    with torch.no_grad():\n",
        "        teacher_outputs = teacher(images)\n",
        "        distilled_outputs = student_distilled(images)\n",
        "        baseline_outputs = student_baseline(images)\n",
        "\n",
        "    _, teacher_preds = torch.max(teacher_outputs, 1)\n",
        "    _, distilled_preds = torch.max(distilled_outputs, 1)\n",
        "    _, baseline_preds = torch.max(baseline_outputs, 1)\n",
        "\n",
        "    # Plot\n",
        "    fig, axes = plt.subplots(2, 5, figsize=(15, 6))\n",
        "    for i, ax in enumerate(axes.flat):\n",
        "        if i < num_samples:\n",
        "            img = images[i].cpu().squeeze()\n",
        "            ax.imshow(img, cmap='gray')\n",
        "\n",
        "            # Create title with predictions\n",
        "            true_label = labels[i].item()\n",
        "            t_pred = teacher_preds[i].item()\n",
        "            d_pred = distilled_preds[i].item()\n",
        "            b_pred = baseline_preds[i].item()\n",
        "\n",
        "            title = f'True: {true_label}\\n'\n",
        "            title += f'T: {t_pred} '\n",
        "            title += '✓' if t_pred == true_label else '✗'\n",
        "            title += f' | D: {d_pred} '\n",
        "            title += '✓' if d_pred == true_label else '✗'\n",
        "            title += f' | B: {b_pred} '\n",
        "            title += '✓' if b_pred == true_label else '✗'\n",
        "\n",
        "            ax.set_title(title, fontsize=10)\n",
        "            ax.axis('off')\n",
        "\n",
        "    plt.suptitle('Model Predictions (T=Teacher, D=Distilled, B=Baseline)', fontsize=14)\n",
        "    plt.tight_layout()\n",
        "    plt.show()\n",
        "\n",
        "visualize_predictions(teacher, student_distilled, student_baseline, test_loader)"
      ]
    },
    {
      "cell_type": "markdown",
      "metadata": {
        "id": "dy6jo5TcnfUh"
      },
      "source": [
        "---\n",
        "\n",
        "# Challenge Section\n"
      ]
    },
    {
      "cell_type": "markdown",
      "metadata": {
        "id": "bMo9SIxonfUh"
      },
      "source": [
        "## Challenge 1: Implement a Different Student Architecture\n",
        "\n",
        "Design a new student architecture that:\n",
        "- Has even fewer parameters than the current student\n",
        "- Uses a different approach (e.g., only fully connected layers, or different conv architecture)\n",
        "- Achieves at least 95% accuracy with distillation\n",
        "\n",
        "**Hint**: You might want to experiment with:\n",
        "- Different kernel sizes\n",
        "- Depthwise separable convolutions\n",
        "- Different activation functions"
      ]
    },
    {
      "cell_type": "code",
      "execution_count": 15,
      "metadata": {
        "id": "9jRqJVZynfUh"
      },
      "outputs": [],
      "source": [
        "class TinyStudent(nn.Module):\n",
        "    def __init__(self):\n",
        "        super(TinyStudent, self).__init__()\n",
        "        # TODO: Implement your tiny student architecture here\n",
        "        # Aim for < 20,000 parameters\n",
        "        pass\n",
        "\n",
        "    def forward(self, x):\n",
        "        # TODO: Implement the forward pass\n",
        "        pass\n",
        "\n",
        "# TODO: Train your TinyStudent with distillation and compare results"
      ]
    },
    {
      "cell_type": "markdown",
      "metadata": {
        "id": "rxBVIj_EnfUh"
      },
      "source": [
        "## Challenge 2: Temperature Analysis\n",
        "\n",
        "Investigate how different temperature values affect the student's learning:\n",
        "1. Train students with temperatures T = [1, 3, 5, 10, 20]\n",
        "2. Plot the relationship between temperature and final accuracy\n",
        "3. Explain your findings"
      ]
    },
    {
      "cell_type": "code",
      "execution_count": 16,
      "metadata": {
        "id": "va9z8KEbnfUh"
      },
      "outputs": [],
      "source": [
        "temperatures = [1, 3, 5, 10, 20]\n",
        "temperature_results = []\n",
        "\n",
        "# TODO: For each temperature:\n",
        "# 1. Create a new student model\n",
        "# 2. Train it with that temperature\n",
        "# 3. Test it and store the accuracy\n",
        "\n",
        "# TODO: Create a plot showing temperature vs accuracy"
      ]
    },
    {
      "cell_type": "markdown",
      "metadata": {
        "id": "2Jmzb2R_nfUh"
      },
      "source": [
        "## Challenge 3: Multi-Teacher Distillation\n",
        "\n",
        "Implement a system where a student learns from multiple teachers:\n",
        "1. Train 3 different teacher architectures\n",
        "2. Combine their knowledge to train a single student\n",
        "3. Compare with single-teacher distillation\n",
        "\n",
        "**Hint**: You can average the soft targets from multiple teachers or use a weighted combination."
      ]
    },
    {
      "cell_type": "code",
      "execution_count": 17,
      "metadata": {
        "id": "hZfDra_infUh"
      },
      "outputs": [],
      "source": [
        "# TODO: Define 3 different teacher architectures\n",
        "class Teacher1(nn.Module):\n",
        "    # Different architecture\n",
        "    pass\n",
        "\n",
        "class Teacher2(nn.Module):\n",
        "    # Different architecture\n",
        "    pass\n",
        "\n",
        "class Teacher3(nn.Module):\n",
        "    # Different architecture\n",
        "    pass\n",
        "\n",
        "# TODO: Implement multi-teacher distillation training function\n",
        "def train_student_multi_teacher(student, teachers, train_loader, num_epochs):\n",
        "    # Your implementation here\n",
        "    pass"
      ]
    },
    {
      "cell_type": "markdown",
      "metadata": {
        "id": "KgRyxjVknfUh"
      },
      "source": [
        "## Challenge 4: Distillation for Other Datasets\n",
        "\n",
        "Apply knowledge distillation to a more complex dataset:\n",
        "1. Use CIFAR-10 dataset (color images, 10 classes)\n",
        "2. Design appropriate teacher and student architectures\n",
        "3. Compare the effectiveness of distillation on CIFAR-10 vs MNIST\n",
        "\n",
        "**Questions to answer**:\n",
        "- Is the improvement from distillation more or less pronounced on CIFAR-10?\n",
        "- What architectural choices work best for color images?"
      ]
    },
    {
      "cell_type": "code",
      "execution_count": 18,
      "metadata": {
        "id": "VkbtD_GOnfUh"
      },
      "outputs": [],
      "source": [
        "# TODO: Load CIFAR-10 dataset\n",
        "# TODO: Design teacher and student architectures for CIFAR-10\n",
        "# TODO: Train and compare results"
      ]
    },
    {
      "cell_type": "markdown",
      "metadata": {
        "id": "1_CJyZcQnfUh"
      },
      "source": [
        "## Challenge 5: Analysis Questions\n",
        "\n",
        "Answer the following questions based on your experiments:\n",
        "\n",
        "1. **Why does knowledge distillation work?** Explain in your own words why learning from soft targets helps the student network.\n",
        "\n",
        "2. **When might distillation fail?** Can you think of scenarios where knowledge distillation might not help or even hurt performance?\n",
        "\n",
        "3. **Real-world applications**: List 3 real-world scenarios where knowledge distillation would be particularly useful.\n",
        "\n",
        "4. **Optimal α value**: Based on your experiments, what seems to be the optimal balance between hard and soft targets? Does this depend on the dataset or architecture?"
      ]
    },
    {
      "cell_type": "code",
      "execution_count": 19,
      "metadata": {
        "id": "Yy3CcB8KnfUh"
      },
      "outputs": [],
      "source": [
        "# Your answers here:\n",
        "# 1. Why does knowledge distillation work?\n",
        "# Answer:\n",
        "\n",
        "# 2. When might distillation fail?\n",
        "# Answer:\n",
        "\n",
        "# 3. Real-world applications:\n",
        "# Answer:\n",
        "\n",
        "# 4. Optimal α value:\n",
        "# Answer:"
      ]
    },
    {
      "cell_type": "markdown",
      "metadata": {
        "id": "UX2wVJ4FnfUl"
      },
      "source": [
        "## Bonus Challenge: Implement Progressive Distillation\n",
        "\n",
        "Implement a progressive distillation approach where:\n",
        "1. Train a large teacher\n",
        "2. Train a medium-sized student from the teacher\n",
        "3. Train a tiny student from the medium student\n",
        "4. Compare this \"chain\" approach with direct distillation from teacher to tiny student"
      ]
    },
    {
      "cell_type": "code",
      "execution_count": 20,
      "metadata": {
        "id": "B0eXYzzznfUl"
      },
      "outputs": [],
      "source": [
        "# TODO: Implement progressive distillation\n",
        "# Your code here"
      ]
    }
  ],
  "metadata": {
    "kernelspec": {
      "display_name": "Python 3 (ipykernel)",
      "language": "python",
      "name": "python3"
    },
    "language_info": {
      "codemirror_mode": {
        "name": "ipython",
        "version": 3
      },
      "file_extension": ".py",
      "mimetype": "text/x-python",
      "name": "python",
      "nbconvert_exporter": "python",
      "pygments_lexer": "ipython3",
      "version": "3.9.20"
    },
    "colab": {
      "provenance": [],
      "include_colab_link": true
    }
  },
  "nbformat": 4,
  "nbformat_minor": 0
}